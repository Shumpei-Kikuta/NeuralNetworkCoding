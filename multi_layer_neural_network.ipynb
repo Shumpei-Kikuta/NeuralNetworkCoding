{
 "cells": [
  {
   "cell_type": "code",
   "execution_count": 8,
   "metadata": {
    "collapsed": false
   },
   "outputs": [
    {
     "name": "stdout",
     "output_type": "stream",
     "text": [
      "{'W1': array([[-0.00969058,  0.00914837],\n",
      "       [ 0.00345236,  0.01084597],\n",
      "       [ 0.00260346,  0.00327564]]), 'b1': array([[ 0.],\n",
      "       [ 0.],\n",
      "       [ 0.]]), 'W2': array([[ 0.01050658, -0.00500637,  0.00231161],\n",
      "       [ 0.00711537, -0.00136863,  0.01885059]]), 'b2': array([[ 0.],\n",
      "       [ 0.]]), 'W3': array([[ 0.00396756,  0.01587136]]), 'b3': array([[ 0.]])}\n"
     ]
    }
   ],
   "source": [
    "import numpy as np\n",
    "from activation_helper import sigmoid\n",
    "from make_dataset_helper import prepare_dataset\n",
    "    \n",
    "\n",
    "def initialize_parameter(layer_dims: list) -> dict:\n",
    "    # generate parameter W, b\n",
    "    parameter = {}\n",
    "    for i in range(1, len(layer_dims)):\n",
    "        parameter[\"W\" + str(i)] = np.random.randn(layer_dims[i], layer_dims[i - 1]) * 0.01\n",
    "        parameter[\"b\" + str(i)] = np.zeros((layer_dims[i], 1))\n",
    "    \n",
    "    assert(parameter[\"W1\"].shape == (layer_dims[1], layer_dims[0]))\n",
    "    \n",
    "    # test done\n",
    "    return parameter\n",
    "        \n",
    "    \n",
    "\n",
    "def main(X, y, layer_dims, learning_rate=0.01):\n",
    "    parameter = initialize_parameter(layer_dims)\n",
    "    print(parameter)\n",
    "    \n",
    "\n",
    "\n",
    "if __name__ == '__main__':\n",
    "    X_train, X_test, y_train, y_test = prepare_dataset()\n",
    "    layer_dims=[X_train.shape[0],3,2,1]\n",
    "    main(X_train, y_train, layer_dims, learning_rate=0.01)\n",
    "    "
   ]
  },
  {
   "cell_type": "code",
   "execution_count": null,
   "metadata": {
    "collapsed": true
   },
   "outputs": [],
   "source": []
  }
 ],
 "metadata": {
  "kernelspec": {
   "display_name": "Python 3",
   "language": "python",
   "name": "python3"
  },
  "language_info": {
   "codemirror_mode": {
    "name": "ipython",
    "version": 3
   },
   "file_extension": ".py",
   "mimetype": "text/x-python",
   "name": "python",
   "nbconvert_exporter": "python",
   "pygments_lexer": "ipython3",
   "version": "3.6.3"
  }
 },
 "nbformat": 4,
 "nbformat_minor": 2
}
