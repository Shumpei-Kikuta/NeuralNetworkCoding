{
 "cells": [
  {
   "cell_type": "code",
   "execution_count": 19,
   "metadata": {
    "collapsed": false
   },
   "outputs": [],
   "source": [
    "import numpy as np\n",
    "from sklearn.datasets import load_iris\n",
    "\n",
    "\n",
    "def sigmoid(x):\n",
    "    return 1/1+np.exp(-x)\n",
    "\n",
    "\n",
    "def tanh(x):\n",
    "    return (np.exp(x) - np.exp(-x)) / ( np.exp(x) + np.exp(-x))\n",
    "\n",
    "\n",
    "def relu(x):\n",
    "    return np.maximum(0, x)\n",
    "\n",
    "\n",
    "def lrelu(x):\n",
    "    return np.maximum(0.01 * x, x)\n",
    "\n",
    "\n",
    "def initialize_parameter(n0, n1, n2):\n",
    "    W1 = np.random.randn(n0, n1) * 0.01\n",
    "    B1 = np.random.randn(n1, 1)\n",
    "    W2 = np.random.randn(n1, n2) * 0.01\n",
    "    B2 = np.random.randn(n2)\n",
    "    return W1, B1, W2, B2\n",
    "\n",
    "\n",
    "def main(X, y):\n",
    "    n0 = X.shape[0]\n",
    "    n1 = 4\n",
    "    n2 = 1\n",
    "    m = X.shape[1]\n",
    "    W1, B1, W2, B2 = initialize_parameter(n0, n1, n2)\n",
    "    \n",
    "    iteration_num = 100\n",
    "    for _ in range(iteration_num):\n",
    "        # farword\n",
    "        Z1 = np.dot(W1.T, X) + B1\n",
    "        A1 = tanh(Z1)\n",
    "        Z2 = np.dot(W2.T, A1) + B2\n",
    "        A2 = sigmoid(Z2)\n",
    "\n",
    "        # backword\n",
    "        dz2 = A2 - y\n",
    "        dw2 = 1 / m * np.dot(A1, dz2.T)\n",
    "        db2 = 1 / m * np.sum(dz2, axis=1, keepdims=True)\n",
    "        dz1 = np.dot(W2, dz2) * (1 - (tanh(Z1)) ** 2)\n",
    "        dw1 = 1 / m * np.dot(X, dz1.T)\n",
    "        db1 = 1/ m * np.sum(dz1, axis=1, keepdims=True)\n",
    "\n",
    "        # update\n",
    "        alpha = 0.001\n",
    "        W1 = W1 - alpha * dw1\n",
    "        B1 = B1 - alpha * db1\n",
    "        W2 = W2 - alpha * dw2\n",
    "        B2 = B2 - alpha * db2"
   ]
  },
  {
   "cell_type": "code",
   "execution_count": 20,
   "metadata": {
    "collapsed": false
   },
   "outputs": [],
   "source": [
    "if __name__ == '__main__':\n",
    "    iris = load_iris()\n",
    "    X, y = iris.data.T, iris.target\n",
    "    main(X, y)"
   ]
  }
 ],
 "metadata": {
  "kernelspec": {
   "display_name": "Python 3",
   "language": "python",
   "name": "python3"
  }
 },
 "nbformat": 4,
 "nbformat_minor": 2
}
