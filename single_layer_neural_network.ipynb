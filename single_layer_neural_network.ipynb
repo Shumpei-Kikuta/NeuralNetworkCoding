{
 "cells": [
  {
   "cell_type": "code",
   "execution_count": 73,
   "metadata": {
    "collapsed": false
   },
   "outputs": [
    {
     "ename": "NameError",
     "evalue": "name 'random' is not defined",
     "output_type": "error",
     "traceback": [
      "\u001b[0;31m---------------------------------------------------------------------------\u001b[0m",
      "\u001b[0;31mNameError\u001b[0m                                 Traceback (most recent call last)",
      "\u001b[0;32m<ipython-input-73-996d10360907>\u001b[0m in \u001b[0;36m<module>\u001b[0;34m()\u001b[0m\n\u001b[1;32m      4\u001b[0m \u001b[0;32mfrom\u001b[0m \u001b[0msklearn\u001b[0m\u001b[0;34m.\u001b[0m\u001b[0mmodel_selection\u001b[0m \u001b[0;32mimport\u001b[0m \u001b[0mtrain_test_split\u001b[0m\u001b[0;34m\u001b[0m\u001b[0m\n\u001b[1;32m      5\u001b[0m \u001b[0;34m\u001b[0m\u001b[0m\n\u001b[0;32m----> 6\u001b[0;31m \u001b[0mrandom\u001b[0m\u001b[0;34m.\u001b[0m\u001b[0mseeds\u001b[0m\u001b[0;34m(\u001b[0m\u001b[0;36m0\u001b[0m\u001b[0;34m)\u001b[0m\u001b[0;34m\u001b[0m\u001b[0m\n\u001b[0m\u001b[1;32m      7\u001b[0m \u001b[0;34m\u001b[0m\u001b[0m\n\u001b[1;32m      8\u001b[0m \u001b[0;32mdef\u001b[0m \u001b[0minitialize_parameter\u001b[0m\u001b[0;34m(\u001b[0m\u001b[0mn0\u001b[0m\u001b[0;34m,\u001b[0m \u001b[0mn1\u001b[0m\u001b[0;34m,\u001b[0m \u001b[0mn2\u001b[0m\u001b[0;34m)\u001b[0m\u001b[0;34m:\u001b[0m\u001b[0;34m\u001b[0m\u001b[0m\n",
      "\u001b[0;31mNameError\u001b[0m: name 'random' is not defined"
     ]
    }
   ],
   "source": [
    "import numpy as np\n",
    "from sklearn.datasets import load_iris\n",
    "from activation_helper import sigmoid\n",
    "from sklearn.model_selection import train_test_split\n",
    "\n",
    "random.seeds(0)\n",
    "\n",
    "def initialize_parameter(n0, n1, n2):\n",
    "    W1 = np.random.randn(n0, n1) * 0.01\n",
    "    B1 = np.zeros((n1, 1))\n",
    "    W2 = np.random.randn(n1, n2) * 0.01\n",
    "    B2 = np.zeros(n2)\n",
    "    parameters = {\"W1\":W1,\n",
    "                             \"B1\": B1,\n",
    "                             \"W2\": W2,\n",
    "                             \"B2\": B2}\n",
    "    return parameters\n",
    "\n",
    "\n",
    "def forward(parameters, X):\n",
    "        W1 = parameters[\"W1\"]\n",
    "        B1 = parameters[\"B1\"]\n",
    "        W2 = parameters[\"W2\"]\n",
    "        B2 = parameters[\"B2\"]\n",
    "        \n",
    "        Z1 = np.dot(W1.T, X) + B1\n",
    "        A1 = np.tanh(Z1)\n",
    "        Z2 = np.dot(W2.T, A1) + B2\n",
    "        A2 = sigmoid(Z2)\n",
    "        \n",
    "        return Z1, A1, Z2, A2\n",
    "    \n",
    "def backward(parameters, X, y, Z1, A1, Z2, A2, m):\n",
    "        W1 = parameters[\"W1\"]\n",
    "        B1 = parameters[\"B1\"]\n",
    "        W2 = parameters[\"W2\"]\n",
    "        B2 = parameters[\"B2\"]\n",
    "        \n",
    "        dz2 = A2 - y\n",
    "        dw2 = 1 / m * np.dot(A1, dz2.T)\n",
    "        db2 = 1 / m * np.sum(dz2, axis=1, keepdims=True)\n",
    "        dz1 = np.dot(W2, dz2) * (1 - (np.tanh(A1)) ** 2)\n",
    "        dw1 = 1 / m * np.dot(X, dz1.T)\n",
    "        db1 = 1/ m * np.sum(dz1, axis=1, keepdims=True)\n",
    "        \n",
    "        grads = {}\n",
    "        \n",
    "        grads[\"dw1\"] = dw1\n",
    "        grads[\"db1\"] = db1\n",
    "        grads[\"dw2\"] = dw2\n",
    "        grads[\"db2\"] = db2\n",
    "        \n",
    "        return grads\n",
    "    \n",
    "\n",
    "def update(parameters, grads, alpha):\n",
    "        parameters[\"W1\"] = parameters[\"W1\"] - alpha * grads[\"dw1\"]\n",
    "        parameters[\"B1\"] = parameters[\"B1\"] - alpha * grads[\"db1\"]\n",
    "        parameters[\"W2\"] = parameters[\"W2\"] - alpha * grads[\"dw2\"]\n",
    "        parameters[\"B2\"] = parameters[\"B2\"]  - alpha * grads[\"db2\"]\n",
    "        \n",
    "        return parameters\n",
    "    \n",
    "    \n",
    "def main(X, y, n1, n2, iteration_num =100, alpha = 0.001):\n",
    "    n0 = X.shape[0]\n",
    "    m = X.shape[1]\n",
    "    parameters = initialize_parameter(n0, n1, n2)\n",
    "    W1, B1, W2, B2 = parameters[\"W1\"], parameters[\"B1\"], parameters[\"W2\"], parameters[\"B2\"]\n",
    "\n",
    "    for _ in range(iteration_num):\n",
    "        # farword\n",
    "        Z1, A1, Z2, A2 = forward(parameters, X)\n",
    "        \n",
    "\n",
    "        # backword\n",
    "        grads = backward(parameters, X, y, Z1, A1, Z2, A2, m)\n",
    "\n",
    "        # update\n",
    "        parameters = update(parameters, grads, alpha)\n",
    "        \n",
    "    return parameters"
   ]
  },
  {
   "cell_type": "code",
   "execution_count": null,
   "metadata": {
    "collapsed": true
   },
   "outputs": [],
   "source": [
    "def prepare_dataset():\n",
    "    iris = load_iris()\n",
    "    X, y = iris.data[:100,:2], iris.target[:100]\n",
    "    X_train, X_test, y_train, y_test = train_test_split(X, y, test_size = 0.2, random_state = 0)\n",
    "    X_train = X_train.T\n",
    "    X_test = X_test.T\n",
    "    y_train = y_train.reshape(1, y_train.shape[0])\n",
    "    y_test = y_test.reshape(1, y_test.shape[0])\n",
    "    \n",
    "    return X_train, X_test, y_train, y_test"
   ]
  },
  {
   "cell_type": "code",
   "execution_count": 74,
   "metadata": {
    "collapsed": true
   },
   "outputs": [],
   "source": [
    "def predict(X, parameters):\n",
    "    Z1, A1, Z2, A2 = forward(parameters, X)\n",
    "    y_hat = A2\n",
    "    func = lambda x: 0 if x <= 0.5 else 1\n",
    "    vfunc = np.vectorize(func)\n",
    "    y_hat = vfunc(y_hat)\n",
    "    return y_hat"
   ]
  },
  {
   "cell_type": "code",
   "execution_count": 85,
   "metadata": {
    "collapsed": false
   },
   "outputs": [
    {
     "name": "stdout",
     "output_type": "stream",
     "text": [
      "train accuracy 0.5\n",
      "test accuracy 0.5\n"
     ]
    }
   ],
   "source": [
    "if __name__ == '__main__':\n",
    "    X_train, X_test, y_train, y_test = prepare_dataset()\n",
    "    \n",
    "    parameters = main(X_train, y_train, n1=3, n2=1, iteration_num=1000, alpha = 0.01)\n",
    "    y_train_hat = predict(X_train, parameters) \n",
    "    y_test_hat = predict(X_test, parameters)\n",
    "    train_score = np.sum([y_train == y_train_hat]) / y_train.shape[1]\n",
    "    test_score = np.sum([y_test == y_test_hat]) / y_test.shape[1]\n",
    "    print(\"train accuracy {}\".format(train_score))\n",
    "    print(\"test accuracy {}\".format(test_score))"
   ]
  },
  {
   "cell_type": "code",
   "execution_count": null,
   "metadata": {
    "collapsed": true
   },
   "outputs": [],
   "source": []
  },
  {
   "cell_type": "code",
   "execution_count": null,
   "metadata": {
    "collapsed": true
   },
   "outputs": [],
   "source": []
  }
 ],
 "metadata": {
  "kernelspec": {
   "display_name": "Python 3",
   "language": "python",
   "name": "python3"
  },
  "language_info": {
   "codemirror_mode": {
    "name": "ipython",
    "version": 3
   },
   "file_extension": ".py",
   "mimetype": "text/x-python",
   "name": "python",
   "nbconvert_exporter": "python",
   "pygments_lexer": "ipython3",
   "version": "3.6.3"
  }
 },
 "nbformat": 4,
 "nbformat_minor": 2
}
