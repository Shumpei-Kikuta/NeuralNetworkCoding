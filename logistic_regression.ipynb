{
 "cells": [
  {
   "cell_type": "markdown",
   "metadata": {},
   "source": [
    "# Binary logistic regression"
   ]
  },
  {
   "cell_type": "code",
   "execution_count": 42,
   "metadata": {
    "collapsed": false
   },
   "outputs": [],
   "source": [
    "import numpy as np \n",
    "from sklearn.datasets import load_iris\n",
    "from sklearn.model_selection import train_test_split\n",
    "\n",
    "class LogisticRegression():\n",
    "    \n",
    "    def __init__(self, alpha, iteration_num):\n",
    "        self.parameter = {}\n",
    "        self.alpha = alpha\n",
    "        self.iteration_num = iteration_num\n",
    "        self.w = None\n",
    "        self.b = None\n",
    "        \n",
    "        \n",
    "    def __sigmoid_function(self, z: np.ndarray) -> np.ndarray:\n",
    "        a = 1/ (1 + np.exp(-z))\n",
    "        return a\n",
    "\n",
    "\n",
    "    def __initialize_parameter(self, dim):\n",
    "        self.w = np.random.randn(dim, 1) * 0.01\n",
    "        self.b = np.random.randn(1)\n",
    "\n",
    "\n",
    "    def fit(self, X, y):\n",
    "        nx = X.shape[0]   #dimension 4\n",
    "        m = X.shape[1]   # data num 150\n",
    "        \n",
    "        self.__initialize_parameter(nx)\n",
    "\n",
    "        for _ in range(self.iteration_num):\n",
    "            z = np.dot(self.w.T, X) + self.b\n",
    "            z = z.reshape((z.shape[1], 1))\n",
    "            a = self.__sigmoid_function(z)\n",
    "            dz = a - y\n",
    "            dw = 1/m * np.dot(X, dz)\n",
    "            db = 1/m * np.sum(dz)\n",
    "            self.w -= self.alpha * dw\n",
    "            self.b -= self.alpha * db\n",
    "\n",
    "    \n",
    "    def predict(self, X):\n",
    "        z = np.dot(self.w.T, X) + self.b\n",
    "        z = z.reshape((z.shape[1], 1))\n",
    "        y_hat = self.__sigmoid_function(z)\n",
    "        func = lambda x: 0 if x <= 0.5 else 1\n",
    "        vfunc = np.vectorize(func)\n",
    "        y_hat = vfunc(y_hat)\n",
    "        return y_hat"
   ]
  },
  {
   "cell_type": "code",
   "execution_count": 43,
   "metadata": {
    "collapsed": false
   },
   "outputs": [
    {
     "name": "stdout",
     "output_type": "stream",
     "text": [
      "0.433333333333\n"
     ]
    }
   ],
   "source": [
    "def prepare_dataset():\n",
    "    iris = load_iris()\n",
    "    X, y = iris.data[:100,:], iris.target[:100]\n",
    "    X_train, X_test, y_train, y_test = train_test_split(X, y, test_size = 0.3)\n",
    "    X_train = X_train.T\n",
    "    X_test = X_test.T\n",
    "    y_train = y_train.reshape(y_train.shape[0], 1)\n",
    "    y_test = y_test.reshape(y_test.shape[0], 1)\n",
    "    \n",
    "    return X_train, X_test, y_train, y_test\n",
    "\n",
    "if __name__ == '__main__':\n",
    "    X_train, X_test, y_train, y_test = prepare_dataset()\n",
    "    log = LogisticRegression(alpha=0.001, iteration_num=10)\n",
    "    log.fit(X_train, y_train)\n",
    "    y_hat = log.predict(X_test)\n",
    "    score = np.sum(y_hat == y_test) / X_test.shape[1]\n",
    "    print(score)"
   ]
  },
  {
   "cell_type": "code",
   "execution_count": 40,
   "metadata": {
    "collapsed": false
   },
   "outputs": [
    {
     "data": {
      "text/plain": [
       "0.5"
      ]
     },
     "execution_count": 40,
     "metadata": {},
     "output_type": "execute_result"
    }
   ],
   "source": []
  }
 ],
 "metadata": {
  "kernelspec": {
   "display_name": "Python 3",
   "language": "python",
   "name": "python3"
  },
  "language_info": {
   "codemirror_mode": {
    "name": "ipython",
    "version": 3
   },
   "file_extension": ".py",
   "mimetype": "text/x-python",
   "name": "python",
   "nbconvert_exporter": "python",
   "pygments_lexer": "ipython3",
   "version": "3.6.3"
  }
 },
 "nbformat": 4,
 "nbformat_minor": 2
}
