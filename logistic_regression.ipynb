{
 "cells": [
  {
   "cell_type": "code",
   "execution_count": 14,
   "metadata": {
    "collapsed": false
   },
   "outputs": [
    {
     "name": "stdout",
     "output_type": "stream",
     "text": [
      "(array([  5274.11383883,  -1479.61127465,  13626.8006883 ,   5940.17894735]), array([ 0.32375164]))\n"
     ]
    }
   ],
   "source": [
    "import numpy as np \n",
    "from sklearn.datasets import load_iris\n",
    "\n",
    "def sigmoid_function(z: np.ndarray) -> np.ndarray:\n",
    "    a = 1/ (1 + np.exp(-z))\n",
    "    return a\n",
    "\n",
    "\n",
    "def main():\n",
    "    iris = load_iris()\n",
    "    X, y = iris.data.T, iris.target\n",
    "    nx = X.shape[0]\n",
    "    m = X.shape[1]\n",
    "\n",
    "    w = np.random.rand(nx)\n",
    "    b = np.random.rand(1) \n",
    "    for iteration in range(100):\n",
    "        z = np.dot(w.T, X)\n",
    "        a = sigmoid_function(z)\n",
    "        dz = a - y\n",
    "        dw = 1/m * np.dot(X, dz.T)\n",
    "        db = 1/m * np.sum(dz)\n",
    "        alpha = 0.01\n",
    "        w -= alpha * dw\n",
    "        b -= alpha * db\n",
    "    \n",
    "    return w, b\n",
    "\n",
    "if __name__ == '__main__':\n",
    "    print(main())"
   ]
  },
  {
   "cell_type": "code",
   "execution_count": null,
   "metadata": {
    "collapsed": true
   },
   "outputs": [],
   "source": []
  }
 ],
 "metadata": {
  "kernelspec": {
   "display_name": "Python 3",
   "language": "python",
   "name": "python3"
  },
  "language_info": {
   "codemirror_mode": {
    "name": "ipython",
    "version": 3
   },
   "file_extension": ".py",
   "mimetype": "text/x-python",
   "name": "python",
   "nbconvert_exporter": "python",
   "pygments_lexer": "ipython3",
   "version": "3.6.3"
  }
 },
 "nbformat": 4,
 "nbformat_minor": 2
}
