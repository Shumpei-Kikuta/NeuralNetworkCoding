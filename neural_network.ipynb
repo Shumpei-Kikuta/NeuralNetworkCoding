{
 "cells": [
  {
   "cell_type": "code",
   "execution_count": 11,
   "metadata": {
    "collapsed": false
   },
   "outputs": [
    {
     "name": "stdout",
     "output_type": "stream",
     "text": [
      "(1, 150)\n"
     ]
    }
   ],
   "source": [
    "import numpy as np\n",
    "from sklearn.datasets import load_iris\n",
    "\n",
    "\n",
    "def sigmoid(x):\n",
    "    return 1/1+np.exp(-x)\n",
    "\n",
    "iris = load_iris()\n",
    "X, y = iris.data.T, iris.target\n",
    "nx = X.shape[0]\n",
    "m = X.shape[1]\n",
    "\n",
    "W1 = np.random.randn(nx, 4)\n",
    "B1 = np.random.randn(4, 1)\n",
    "W2 = np.random.randn(4, 1)\n",
    "B2 = np.random.randn(1)\n",
    "\n",
    "Z1 = np.dot(W1.T, X) + B1\n",
    "A1 = sigmoid(Z1)\n",
    "Z2 = np.dot(W2.T, A1) + B2\n",
    "A2 = sigmoid(Z2)"
   ]
  },
  {
   "cell_type": "code",
   "execution_count": null,
   "metadata": {
    "collapsed": true
   },
   "outputs": [],
   "source": []
  }
 ],
 "metadata": {
  "kernelspec": {
   "display_name": "Python 3",
   "language": "python",
   "name": "python3"
  },
  "language_info": {
   "codemirror_mode": {
    "name": "ipython",
    "version": 3
   },
   "file_extension": ".py",
   "mimetype": "text/x-python",
   "name": "python",
   "nbconvert_exporter": "python",
   "pygments_lexer": "ipython3",
   "version": "3.6.3"
  }
 },
 "nbformat": 4,
 "nbformat_minor": 2
}
